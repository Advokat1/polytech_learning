{
 "cells": [
  {
   "cell_type": "code",
   "execution_count": null,
   "metadata": {},
   "outputs": [],
   "source": [
    "# Простые запросы к БД\n",
    "\n",
    "import sqlite3\n",
    "\n",
    "\n",
    "db_name = 'chinook.db'\n",
    "\n",
    "connection = sqlite3.connect(db_name)\n",
    "cursor = connection.cursor()\n",
    "\n",
    "cursor.execute(\"SELECT * FROM artists WHERE MOD(ArtistId, 2)=0\")\n",
    "data = cursor.fetchall()\n",
    "print(data[0:10])\n",
    "print()\n",
    "\n",
    "cursor.execute(\"SELECT * FROM playlists\")\n",
    "data = cursor.fetchall()\n",
    "print(data)\n",
    "print()\n",
    "\n",
    "cursor.execute(\"PRAGMA table_info('genres')\")\n",
    "data = cursor.fetchall()\n",
    "print(data)"
   ]
  },
  {
   "cell_type": "code",
   "execution_count": null,
   "metadata": {},
   "outputs": [],
   "source": [
    "# Экспорт всех таблиц из базы в csv файлы\n",
    "\n",
    "import sqlite3\n",
    "import csv\n",
    "\n",
    "db_name = 'chinook.db'\n",
    "\n",
    "connection = sqlite3.connect(db_name)\n",
    "cursor = connection.cursor()\n",
    "cursor.execute(\"SELECT name FROM sqlite_master WHERE type = 'table' ORDER BY name\")\\\n",
    "\n",
    "result = cursor.fetchall()\n",
    "\n",
    "for item in result:\n",
    "    tb_name = item[0]  \n",
    "    cursor.execute(f\"SELECT * FROM {tb_name}\")\n",
    "    tb_data = cursor.fetchall()\n",
    "    file_name = f\"{tb_name}.csv\"\n",
    "    \n",
    "    with open(file_name, mode=\"w\", encoding=\"utf-8\") as w_file:\n",
    "        file_writer = csv.writer(w_file, delimiter=\";\", lineterminator=\"\\r\")\n",
    "\n",
    "        for item in tb_data:\n",
    "            file_writer.writerow(item)\n"
   ]
  }
 ],
 "metadata": {
  "interpreter": {
   "hash": "c84347d6e07be3b935d04c94ba478755eb49366571253379d7ac01c069f27c3b"
  },
  "kernelspec": {
   "display_name": "Python 3.10.0 64-bit",
   "language": "python",
   "name": "python3"
  },
  "language_info": {
   "codemirror_mode": {
    "name": "ipython",
    "version": 3
   },
   "file_extension": ".py",
   "mimetype": "text/x-python",
   "name": "python",
   "nbconvert_exporter": "python",
   "pygments_lexer": "ipython3",
   "version": "3.10.0"
  },
  "orig_nbformat": 4
 },
 "nbformat": 4,
 "nbformat_minor": 2
}
