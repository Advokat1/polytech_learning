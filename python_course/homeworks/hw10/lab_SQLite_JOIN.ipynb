{
 "cells": [
  {
   "cell_type": "code",
   "execution_count": null,
   "metadata": {},
   "outputs": [],
   "source": [
    "# Те Join, которые не поддерживаются в SQLite, придумать и реализовать их замену с помощью других конструкций SQL.\n",
    "\n",
    "import sqlite3\n",
    "import prettytable\n",
    "\n",
    "\n",
    "db_name = 'wiki.db'\n",
    "\n",
    "connection = sqlite3.connect(db_name)\n",
    "cursor = connection.cursor()\n",
    "cursor.execute(\"SELECT Person.Name as P_Name, Person.City_ID as P_CityID, City.ID as C_ID, City.Name as C_Name FROM City LEFT OUTER JOIN Person ON Person.City_ID = City.ID\")\n",
    "\n",
    "tb = prettytable.from_db_cursor(cursor)\n",
    "\n",
    "tb.set_style(prettytable.DEFAULT)\n",
    "tb.top_left_junction_char = '╔'\n",
    "tb.top_right_junction_char = '╗'\n",
    "tb.bottom_left_junction_char = '╚'\n",
    "tb.bottom_right_junction_char = '╝'\n",
    "tb.top_junction_char = '╦'\n",
    "tb.bottom_junction_char = '╩'\n",
    "tb.vertical_char = '║'\n",
    "tb.horizontal_char = '═'\n",
    "tb.left_junction_char = '╠'\n",
    "tb.right_junction_char = '╣'\n",
    "tb.junction_char = '╬'\n",
    "\n",
    "print(tb)"
   ]
  },
  {
   "cell_type": "code",
   "execution_count": null,
   "metadata": {},
   "outputs": [],
   "source": [
    "# Те Join, которые не поддерживаются в SQLite, придумать и реализовать их замену с помощью других конструкций SQL.\n",
    "\n",
    "import sqlite3\n",
    "import prettytable\n",
    "\n",
    "\n",
    "db_name = 'wiki.db'\n",
    "\n",
    "connection = sqlite3.connect(db_name)\n",
    "cursor = connection.cursor()\n",
    "cursor.execute(\"\"\"SELECT Person.Name as P_Name, Person.City_ID as P_CityID, City.ID as C_ID, City.Name as C_Name \n",
    "FROM Person LEFT OUTER JOIN City \n",
    "ON Person.City_ID = City.ID\n",
    "UNION\n",
    "SELECT Person.Name as P_Name, Person.City_ID as P_CityID, City.ID as C_ID, City.Name as C_Name \n",
    "FROM City LEFT OUTER JOIN Person \n",
    "ON Person.City_ID = City.ID\"\"\")\n",
    "\n",
    "tb = prettytable.from_db_cursor(cursor)\n",
    "\n",
    "tb.set_style(prettytable.DEFAULT)\n",
    "tb.top_left_junction_char = '╔'\n",
    "tb.top_right_junction_char = '╗'\n",
    "tb.bottom_left_junction_char = '╚'\n",
    "tb.bottom_right_junction_char = '╝'\n",
    "tb.top_junction_char = '╦'\n",
    "tb.bottom_junction_char = '╩'\n",
    "tb.vertical_char = '║'\n",
    "tb.horizontal_char = '═'\n",
    "tb.left_junction_char = '╠'\n",
    "tb.right_junction_char = '╣'\n",
    "tb.junction_char = '╬'\n",
    "\n",
    "print(tb)"
   ]
  }
 ],
 "metadata": {
  "interpreter": {
   "hash": "c84347d6e07be3b935d04c94ba478755eb49366571253379d7ac01c069f27c3b"
  },
  "kernelspec": {
   "display_name": "Python 3.10.0 64-bit",
   "language": "python",
   "name": "python3"
  },
  "language_info": {
   "codemirror_mode": {
    "name": "ipython",
    "version": 3
   },
   "file_extension": ".py",
   "mimetype": "text/x-python",
   "name": "python",
   "nbconvert_exporter": "python",
   "pygments_lexer": "ipython3",
   "version": "3.10.0"
  },
  "orig_nbformat": 4
 },
 "nbformat": 4,
 "nbformat_minor": 2
}
