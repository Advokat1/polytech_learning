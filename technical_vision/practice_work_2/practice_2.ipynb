{
 "cells": [
  {
   "cell_type": "code",
   "execution_count": 2,
   "metadata": {},
   "outputs": [],
   "source": [
    "# Импорт инструментов\n",
    "from skimage import img_as_float\n",
    "from skimage.io import imread\n",
    "from skimage.metrics import structural_similarity, mean_squared_error, peak_signal_noise_ratio"
   ]
  },
  {
   "cell_type": "code",
   "execution_count": 8,
   "metadata": {},
   "outputs": [],
   "source": [
    "# Получение изображений, расчет параметров\n",
    "def get_params(image_1, image_2):\n",
    "    image_origin = img_as_float(imread(image_1))\n",
    "    image_changes = img_as_float(imread(image_2))\n",
    "\n",
    "    params = {\n",
    "        'mse': round(mean_squared_error(image_origin, image_changes), 5),\n",
    "        'psnr': round(peak_signal_noise_ratio(image_origin, image_changes), 5),\n",
    "        'ssin': round(structural_similarity(image_origin, image_changes, channel_axis=2), 5)\n",
    "    }\n",
    "\n",
    "    return params"
   ]
  },
  {
   "cell_type": "code",
   "execution_count": 17,
   "metadata": {},
   "outputs": [
    {
     "name": "stdout",
     "output_type": "stream",
     "text": [
      "small_pair_1 | MSE: 0.17367 | PSNR: 7.60267 | SSIN: 0.05161\n",
      "small_pair_2 | MSE: 0.02094 | PSNR: 16.7911 | SSIN: 0.88391\n",
      "small_pair_3 | MSE: 0.00194 | PSNR: 27.1168 | SSIN: 0.91707\n",
      "medium_pair_1 | MSE: 0.17039 | PSNR: 7.68562 | SSIN: 0.04394\n",
      "medium_pair_2 | MSE: 0.03317 | PSNR: 14.79232 | SSIN: 0.84324\n",
      "medium_pair_3 | MSE: 0.0028 | PSNR: 25.53348 | SSIN: 0.88537\n",
      "big_pair_1 | MSE: 0.15906 | PSNR: 7.98436 | SSIN: 0.02657\n",
      "big_pair_2 | MSE: 0.05152 | PSNR: 12.88023 | SSIN: 0.76843\n",
      "big_pair_3 | MSE: 0.00491 | PSNR: 23.08897 | SSIN: 0.76652\n"
     ]
    }
   ],
   "source": [
    "# Вызов функции расчета параметров для всех групп изображений\n",
    "params_dataset = {}\n",
    "\n",
    "for group in ['small', 'medium', 'big']:\n",
    "    for count in range(1, 4):\n",
    "        params_dataset[f'{group}_pair_{count}'] = get_params(f'./images/{group}_{count}.jpg', f'./images/{group}_{count}_changes.jpg')\n",
    "\n",
    "for key in params_dataset.keys():\n",
    "    print(f'{key} | MSE: {params_dataset[f\"{key}\"][\"mse\"]} | PSNR: {params_dataset[f\"{key}\"][\"psnr\"]} | SSIN: {params_dataset[f\"{key}\"][\"ssin\"]}')"
   ]
  }
 ],
 "metadata": {
  "kernelspec": {
   "display_name": "Python 3.10.0 64-bit",
   "language": "python",
   "name": "python3"
  },
  "language_info": {
   "codemirror_mode": {
    "name": "ipython",
    "version": 3
   },
   "file_extension": ".py",
   "mimetype": "text/x-python",
   "name": "python",
   "nbconvert_exporter": "python",
   "pygments_lexer": "ipython3",
   "version": "3.10.0"
  },
  "orig_nbformat": 4,
  "vscode": {
   "interpreter": {
    "hash": "305ef3f5ebfb772cf36ad768aa0371a76d4f9c468fa2831dc8f3165133ea3ace"
   }
  }
 },
 "nbformat": 4,
 "nbformat_minor": 2
}
